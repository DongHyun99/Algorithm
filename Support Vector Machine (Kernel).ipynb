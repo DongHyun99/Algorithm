{
  "nbformat": 4,
  "nbformat_minor": 0,
  "metadata": {
    "colab": {
      "name": "Untitled1.ipynb",
      "provenance": [],
      "authorship_tag": "ABX9TyMrXOHrkvdRFT5p51qcit4g",
      "include_colab_link": true
    },
    "kernelspec": {
      "name": "python3",
      "display_name": "Python 3"
    },
    "language_info": {
      "name": "python"
    },
    "accelerator": "GPU"
  },
  "cells": [
    {
      "cell_type": "markdown",
      "metadata": {
        "id": "view-in-github",
        "colab_type": "text"
      },
      "source": [
        "<a href=\"https://colab.research.google.com/github/DongHyun99/Algorithm/blob/master/Support%20Vector%20Machine%20(Kernel).ipynb\" target=\"_parent\"><img src=\"https://colab.research.google.com/assets/colab-badge.svg\" alt=\"Open In Colab\"/></a>"
      ]
    },
    {
      "cell_type": "code",
      "metadata": {
        "colab": {
          "base_uri": "https://localhost:8080/"
        },
        "id": "Zq1nWzmtlyHh",
        "outputId": "77aff99b-439e-48ff-f7be-35f40ab32fd3"
      },
      "source": [
        "!apt -qq -y install fonts-nanum\n",
        " \n",
        "import matplotlib.font_manager as fm\n",
        "import numpy as np\n",
        "fontpath = '/usr/share/fonts/truetype/nanum/NanumBarunGothic.ttf'\n",
        "font = fm.FontProperties(fname=fontpath, size=9)\n",
        "plt.rc('font', family='NanumBarunGothic') "
      ],
      "execution_count": 5,
      "outputs": [
        {
          "output_type": "stream",
          "text": [
            "fonts-nanum is already the newest version (20170925-1).\n",
            "The following package was automatically installed and is no longer required:\n",
            "  libnvidia-common-460\n",
            "Use 'apt autoremove' to remove it.\n",
            "0 upgraded, 0 newly installed, 0 to remove and 34 not upgraded.\n"
          ],
          "name": "stdout"
        }
      ]
    },
    {
      "cell_type": "code",
      "metadata": {
        "colab": {
          "base_uri": "https://localhost:8080/",
          "height": 294
        },
        "id": "LxsrBMKokOA3",
        "outputId": "f3123813-56f3-44ee-e4b6-a58820dbfbd0"
      },
      "source": [
        "from sklearn.datasets import make_blobs\n",
        "import matplotlib.pyplot as plt\n",
        "X, y = make_blobs(n_samples=50, centers=2, cluster_std=0.5, random_state=4)\n",
        "y = 2 * y - 1\n",
        "\n",
        "plt.scatter(X[y == -1, 0], X[y == -1, 1], marker='o', label=\"-1 클래스\")\n",
        "plt.scatter(X[y == +1, 0], X[y == +1, 1], marker='x', label=\"+1 클래스\")\n",
        "plt.xlabel(\"x1\")\n",
        "plt.ylabel(\"x2\")\n",
        "plt.legend()\n",
        "plt.title(\"학습용 데이터\")\n",
        "plt.show()"
      ],
      "execution_count": 3,
      "outputs": [
        {
          "output_type": "display_data",
          "data": {
            "image/png": "[encoded data removed]",
            "text/plain": [
              "<Figure size 432x288 with 1 Axes>"
            ]
          },
          "metadata": {
            "tags": [],
            "needs_background": "light"
          }
        }
      ]
    },
    {
      "cell_type": "code",
      "metadata": {
        "colab": {
          "base_uri": "https://localhost:8080/"
        },
        "id": "gPdBaQFrkyQS",
        "outputId": "4a42493c-46a5-40c1-fe5a-4bb4343853f9"
      },
      "source": [
        "from sklearn.svm import SVC\n",
        "\n",
        "model = SVC(kernel = 'linear', C=1e10).fit(X,y)\n",
        "model.n_support_"
      ],
      "execution_count": 7,
      "outputs": [
        {
          "output_type": "execute_result",
          "data": {
            "text/plain": [
              "array([1, 1], dtype=int32)"
            ]
          },
          "metadata": {
            "tags": []
          },
          "execution_count": 7
        }
      ]
    },
    {
      "cell_type": "code",
      "metadata": {
        "colab": {
          "base_uri": "https://localhost:8080/",
          "height": 294
        },
        "id": "k2kfHuYOmffx",
        "outputId": "c2c9e5eb-5452-4432-a3c9-5d4aa5f5a5b5"
      },
      "source": [
        "xmin = X[:, 0].min()\n",
        "xmax = X[:, 0].max()\n",
        "ymin = X[:, 1].min()\n",
        "ymax = X[:, 1].max()\n",
        "xx = np.linspace(xmin, xmax, 10)\n",
        "yy = np.linspace(ymin, ymax, 10)\n",
        "X1, X2 = np.meshgrid(xx, yy) # n차원 격자 만들기\n",
        "\n",
        "Z = np.empty(X1.shape)\n",
        "for (i, j), val in np.ndenumerate(X1): # i,j에 좌표 반환 val에는 값을 반환\n",
        "    x1 = val\n",
        "    x2 = X2[i, j]\n",
        "    p = model.decision_function([[x1, x2]]) # 불확실성을 추정하는 함수\n",
        "    Z[i, j] = p[0]\n",
        "levels = [-1, 0, 1]\n",
        "linestyles = ['dashed', 'solid', 'dashed']\n",
        "plt.scatter(X[y == -1, 0], X[y == -1, 1], marker='o', label=\"-1 클래스\")\n",
        "plt.scatter(X[y == +1, 0], X[y == +1, 1], marker='x', label=\"+1 클래스\")\n",
        "plt.contour(X1, X2, Z, levels, colors='k', linestyles=linestyles)\n",
        "plt.scatter(model.support_vectors_[:, 0], model.support_vectors_[:, 1], s=300, alpha=0.3)\n",
        "\n",
        "x_new = [10, 2]\n",
        "plt.scatter(x_new[0], x_new[1], marker='^', s=100)\n",
        "plt.text(x_new[0] + 0.03, x_new[1] + 0.08, \"테스트 데이터\")\n",
        "\n",
        "plt.xlabel(\"x1\")\n",
        "plt.ylabel(\"x2\")\n",
        "plt.legend()\n",
        "plt.title(\"SVM 예측 결과\")\n",
        "\n",
        "plt.show()"
      ],
      "execution_count": 14,
      "outputs": [
        {
          "output_type": "display_data",
          "data": {
            "image/png": "[encoded data removed]",
            "text/plain": [
              "<Figure size 432x288 with 1 Axes>"
            ]
          },
          "metadata": {
            "tags": [],
            "needs_background": "light"
          }
        }
      ]
    }
  ]
}